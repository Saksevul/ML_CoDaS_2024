{
 "cells": [
  {
   "cell_type": "markdown",
   "id": "272566c7-a650-4184-bcf6-e306c8c48e26",
   "metadata": {},
   "source": [
    "Sample problem: translate place-value demimals to the Roman numerals (a very simple, exact \"language translation\" task)."
   ]
  },
  {
   "cell_type": "code",
   "execution_count": 10,
   "id": "d0dbdf2a-5ea5-4ef3-af3f-a52aac1f3cd6",
   "metadata": {},
   "outputs": [],
   "source": [
    "import roman"
   ]
  },
  {
   "cell_type": "code",
   "execution_count": 13,
   "id": "9d250783-25b8-473f-9c44-ab8dc29a38d7",
   "metadata": {},
   "outputs": [
    {
     "data": {
      "text/plain": [
       "3000"
      ]
     },
     "execution_count": 13,
     "metadata": {},
     "output_type": "execute_result"
    }
   ],
   "source": [
    "are_they_distinct = {roman.toRoman(i + 1) for i in range(3000)}\n",
    "len(are_they_distinct)"
   ]
  },
  {
   "cell_type": "code",
   "execution_count": 14,
   "id": "35a72c49-186b-433e-ad5e-29c5387957f6",
   "metadata": {},
   "outputs": [],
   "source": [
    "for i in range(3000):\n",
    "    assert roman.fromRoman(roman.toRoman(i + 1)) == i + 1"
   ]
  },
  {
   "cell_type": "code",
   "execution_count": 15,
   "id": "0e63ef17-f44b-49eb-bc54-6f49b9e98666",
   "metadata": {},
   "outputs": [
    {
     "data": {
      "text/plain": [
       "14"
      ]
     },
     "execution_count": 15,
     "metadata": {},
     "output_type": "execute_result"
    }
   ],
   "source": [
    "max(len(roman.toRoman(i + 1)) for i in range(3000))"
   ]
  },
  {
   "cell_type": "markdown",
   "id": "d0bd017c-3d55-41b3-9209-e0132ed543a3",
   "metadata": {},
   "source": [
    "I don't think I need to use an Embedding for this."
   ]
  },
  {
   "cell_type": "code",
   "execution_count": 34,
   "id": "eaca4266-9799-427a-8af1-5926e663f5e4",
   "metadata": {},
   "outputs": [],
   "source": [
    "import numpy as np\n",
    "import matplotlib.pyplot as plt"
   ]
  },
  {
   "cell_type": "code",
   "execution_count": 16,
   "id": "fabeaf0c-3ef2-4630-aa8e-5aa170dd2acb",
   "metadata": {},
   "outputs": [],
   "source": [
    "import torch.nn"
   ]
  },
  {
   "cell_type": "code",
   "execution_count": 101,
   "id": "9d0a823a-921c-41ab-836f-83a283bc0f59",
   "metadata": {},
   "outputs": [
    {
     "data": {
      "image/png": "[encoded data removed]",
      "text/plain": [
       "<Figure size 500x500 with 1 Axes>"
      ]
     },
     "metadata": {},
     "output_type": "display_data"
    }
   ],
   "source": [
    "fig, ax = plt.subplots(figsize=(5, 5))\n",
    "\n",
    "embed = torch.nn.Embedding(10, 2)\n",
    "positions = embed(torch.tensor([0, 1, 2, 3, 4, 5, 6, 7, 8, 9], dtype=torch.int64)).detach().numpy()\n",
    "\n",
    "ax.scatter(positions[:, 0], positions[:, 1])\n",
    "\n",
    "ax.axis([-3, 3, -3, 3])\n",
    "\n",
    "None"
   ]
  },
  {
   "cell_type": "code",
   "execution_count": 105,
   "id": "4988b8f7-8287-4fc2-a9d1-ea449eea02c4",
   "metadata": {},
   "outputs": [
    {
     "data": {
      "text/plain": [
       "[Parameter containing:\n",
       " tensor([[ 1.8459, -2.0616],\n",
       "         [ 0.6757, -0.6624],\n",
       "         [ 1.8821,  0.4654],\n",
       "         [-0.8736, -1.3912],\n",
       "         [ 0.9199,  0.8077],\n",
       "         [-0.5372,  2.3746],\n",
       "         [-1.0575, -1.1010],\n",
       "         [-0.5163,  0.7277],\n",
       "         [ 0.0883,  0.9409],\n",
       "         [-0.1030,  2.3991]], requires_grad=True)]"
      ]
     },
     "execution_count": 105,
     "metadata": {},
     "output_type": "execute_result"
    }
   ],
   "source": [
    "list(embed.parameters())"
   ]
  }
 ],
 "metadata": {
  "kernelspec": {
   "display_name": "Python 3 (ipykernel)",
   "language": "python",
   "name": "python3"
  },
  "language_info": {
   "codemirror_mode": {
    "name": "ipython",
    "version": 3
   },
   "file_extension": ".py",
   "mimetype": "text/x-python",
   "name": "python",
   "nbconvert_exporter": "python",
   "pygments_lexer": "ipython3",
   "version": "3.11.9"
  }
 },
 "nbformat": 4,
 "nbformat_minor": 5
}
