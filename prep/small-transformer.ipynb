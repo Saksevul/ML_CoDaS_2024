{
 "cells": [
  {
   "cell_type": "markdown",
   "id": "272566c7-a650-4184-bcf6-e306c8c48e26",
   "metadata": {},
   "source": [
    "Sample problem: translate place-value demimals to the Roman numerals (a very simple, exact \"language translation\" task)."
   ]
  },
  {
   "cell_type": "code",
   "execution_count": 10,
   "id": "d0dbdf2a-5ea5-4ef3-af3f-a52aac1f3cd6",
   "metadata": {},
   "outputs": [],
   "source": [
    "import roman"
   ]
  },
  {
   "cell_type": "code",
   "execution_count": 13,
   "id": "9d250783-25b8-473f-9c44-ab8dc29a38d7",
   "metadata": {},
   "outputs": [
    {
     "data": {
      "text/plain": [
       "3000"
      ]
     },
     "execution_count": 13,
     "metadata": {},
     "output_type": "execute_result"
    }
   ],
   "source": [
    "are_they_distinct = {roman.toRoman(i + 1) for i in range(3000)}\n",
    "len(are_they_distinct)"
   ]
  },
  {
   "cell_type": "code",
   "execution_count": 14,
   "id": "35a72c49-186b-433e-ad5e-29c5387957f6",
   "metadata": {},
   "outputs": [],
   "source": [
    "for i in range(3000):\n",
    "    assert roman.fromRoman(roman.toRoman(i + 1)) == i + 1"
   ]
  },
  {
   "cell_type": "code",
   "execution_count": null,
   "id": "0e63ef17-f44b-49eb-bc54-6f49b9e98666",
   "metadata": {},
   "outputs": [],
   "source": []
  }
 ],
 "metadata": {
  "kernelspec": {
   "display_name": "Python 3 (ipykernel)",
   "language": "python",
   "name": "python3"
  },
  "language_info": {
   "codemirror_mode": {
    "name": "ipython",
    "version": 3
   },
   "file_extension": ".py",
   "mimetype": "text/x-python",
   "name": "python",
   "nbconvert_exporter": "python",
   "pygments_lexer": "ipython3",
   "version": "3.11.9"
  }
 },
 "nbformat": 4,
 "nbformat_minor": 5
}
