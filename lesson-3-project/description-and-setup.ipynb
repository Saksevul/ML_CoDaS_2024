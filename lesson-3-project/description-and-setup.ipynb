{
 "cells": [
  {
   "cell_type": "markdown",
   "id": "4aaaf147-6e95-4412-b440-1d949aaa1f42",
   "metadata": {},
   "source": [
    "# Machine Learning at CoDaS-HEP 2024, Lesson 3: Main Project"
   ]
  },
  {
   "cell_type": "code",
   "execution_count": 1,
   "id": "d1ac5d93-c601-45ab-83bc-a72969e4f7a4",
   "metadata": {},
   "outputs": [],
   "source": [
    "import numpy as np\n",
    "import pandas as pd\n",
    "import matplotlib.pyplot as plt\n",
    "\n",
    "import sklearn.datasets\n",
    "import torch\n",
    "from torch import nn"
   ]
  },
  {
   "cell_type": "markdown",
   "id": "3f560746-07fb-41e4-be7a-6a3d82a594df",
   "metadata": {},
   "source": [
    "<br><br><br><br><br>"
   ]
  },
  {
   "cell_type": "markdown",
   "id": "7f6670b8-f183-45e8-96e7-3cc5f6351741",
   "metadata": {},
   "source": [
    "## Project 1: classify jets with a neural network"
   ]
  },
  {
   "cell_type": "markdown",
   "id": "278fd76a-9848-4700-a989-00fe01c9a12d",
   "metadata": {},
   "source": [
    "### Step 0: Put your name on the results sheet"
   ]
  },
  {
   "cell_type": "markdown",
   "id": "9f1e91ff-e4e4-40df-93ac-9d0561667076",
   "metadata": {},
   "source": [
    "Go to the [Google Spreadsheet for this course](https://docs.google.com/spreadsheets/d/1nRtNJoxW1i-jCr04ZHUlfv0DU4tMGbyvCZcpXakYedE/edit?usp=sharing) and add your name to the _second_ sheet (tab on the bottom of the window):\n",
    "\n",
    "<a href=\"https://docs.google.com/spreadsheets/d/1nRtNJoxW1i-jCr04ZHUlfv0DU4tMGbyvCZcpXakYedE/edit?usp=sharing\"><img src=\"../img/google-sheet-main-project.png\" width=\"700\"></a>\n",
    "\n",
    "Your results (a ROC curve) will go _below_ your name. You own a column of this spreadsheet."
   ]
  },
  {
   "cell_type": "markdown",
   "id": "b98698b3-521b-4505-a359-fb7dc0acd3a1",
   "metadata": {},
   "source": [
    "<br><br><br><br><br>"
   ]
  },
  {
   "cell_type": "markdown",
   "id": "95749cf6-1498-4ea9-b656-a0d0284f819e",
   "metadata": {},
   "source": [
    "### Step 1: Download and understand the data"
   ]
  },
  {
   "cell_type": "markdown",
   "id": "03ec73ea-11cf-46e1-9533-7fffad18854d",
   "metadata": {},
   "source": [
    "We'll use an LHC dataset from an online catalog, [hls4ml_lhc_jets_hlf](https://openml.org/search?type=data&status=active&id=42468).\n",
    "\n",
    "The full description is online, with references to the paper in which it was published.\n",
    "\n",
    "Scikit-Learn has a tool for downloading it (takes a minute or two)."
   ]
  },
  {
   "cell_type": "code",
   "execution_count": 2,
   "id": "508381bf-1433-4d3d-9c0d-d7316f37aab9",
   "metadata": {},
   "outputs": [],
   "source": [
    "hls4ml_lhc_jets_hlf = sklearn.datasets.fetch_openml(\"hls4ml_lhc_jets_hlf\")\n",
    "\n",
    "features, targets = hls4ml_lhc_jets_hlf[\"data\"], hls4ml_lhc_jets_hlf[\"target\"]"
   ]
  },
  {
   "cell_type": "markdown",
   "id": "9e439462-aacd-417f-a485-293cc0e455eb",
   "metadata": {},
   "source": [
    "View the features (16 numerical properties of jets) as a Pandas DataFrame:"
   ]
  },
  {
   "cell_type": "code",
   "execution_count": 3,
   "id": "391ff327-e1c1-4f0b-b4d1-f954d1534add",
   "metadata": {},
   "outputs": [
    {
     "data": {
      "text/html": [
       "<div>\n",
       "<style scoped>\n",
       "    .dataframe tbody tr th:only-of-type {\n",
       "        vertical-align: middle;\n",
       "    }\n",
       "\n",
       "    .dataframe tbody tr th {\n",
       "        vertical-align: top;\n",
       "    }\n",
       "\n",
       "    .dataframe thead th {\n",
       "        text-align: right;\n",
       "    }\n",
       "</style>\n",
       "<table border=\"1\" class=\"dataframe\">\n",
       "  <thead>\n",
       "    <tr style=\"text-align: right;\">\n",
       "      <th></th>\n",
       "      <th>zlogz</th>\n",
       "      <th>c1_b0_mmdt</th>\n",
       "      <th>c1_b1_mmdt</th>\n",
       "      <th>c1_b2_mmdt</th>\n",
       "      <th>c2_b1_mmdt</th>\n",
       "      <th>c2_b2_mmdt</th>\n",
       "      <th>d2_b1_mmdt</th>\n",
       "      <th>d2_b2_mmdt</th>\n",
       "      <th>d2_a1_b1_mmdt</th>\n",
       "      <th>d2_a1_b2_mmdt</th>\n",
       "      <th>m2_b1_mmdt</th>\n",
       "      <th>m2_b2_mmdt</th>\n",
       "      <th>n2_b1_mmdt</th>\n",
       "      <th>n2_b2_mmdt</th>\n",
       "      <th>mass_mmdt</th>\n",
       "      <th>multiplicity</th>\n",
       "    </tr>\n",
       "  </thead>\n",
       "  <tbody>\n",
       "    <tr>\n",
       "      <th>0</th>\n",
       "      <td>-2.935125</td>\n",
       "      <td>0.383155</td>\n",
       "      <td>0.005126</td>\n",
       "      <td>0.000084</td>\n",
       "      <td>0.009070</td>\n",
       "      <td>0.000179</td>\n",
       "      <td>1.769445</td>\n",
       "      <td>2.123898</td>\n",
       "      <td>1.769445</td>\n",
       "      <td>0.308185</td>\n",
       "      <td>0.135687</td>\n",
       "      <td>0.083278</td>\n",
       "      <td>0.412136</td>\n",
       "      <td>0.299058</td>\n",
       "      <td>8.926882</td>\n",
       "      <td>75.0</td>\n",
       "    </tr>\n",
       "    <tr>\n",
       "      <th>1</th>\n",
       "      <td>-1.927335</td>\n",
       "      <td>0.270699</td>\n",
       "      <td>0.001585</td>\n",
       "      <td>0.000011</td>\n",
       "      <td>0.003232</td>\n",
       "      <td>0.000029</td>\n",
       "      <td>2.038834</td>\n",
       "      <td>2.563099</td>\n",
       "      <td>2.038834</td>\n",
       "      <td>0.211886</td>\n",
       "      <td>0.063729</td>\n",
       "      <td>0.036310</td>\n",
       "      <td>0.310217</td>\n",
       "      <td>0.226661</td>\n",
       "      <td>3.886512</td>\n",
       "      <td>31.0</td>\n",
       "    </tr>\n",
       "    <tr>\n",
       "      <th>2</th>\n",
       "      <td>-3.112147</td>\n",
       "      <td>0.458171</td>\n",
       "      <td>0.097914</td>\n",
       "      <td>0.028588</td>\n",
       "      <td>0.124278</td>\n",
       "      <td>0.038487</td>\n",
       "      <td>1.269254</td>\n",
       "      <td>1.346238</td>\n",
       "      <td>1.269254</td>\n",
       "      <td>0.246488</td>\n",
       "      <td>0.115636</td>\n",
       "      <td>0.079094</td>\n",
       "      <td>0.357559</td>\n",
       "      <td>0.289220</td>\n",
       "      <td>162.144669</td>\n",
       "      <td>61.0</td>\n",
       "    </tr>\n",
       "    <tr>\n",
       "      <th>3</th>\n",
       "      <td>-2.666515</td>\n",
       "      <td>0.437068</td>\n",
       "      <td>0.049122</td>\n",
       "      <td>0.007978</td>\n",
       "      <td>0.047477</td>\n",
       "      <td>0.004802</td>\n",
       "      <td>0.966505</td>\n",
       "      <td>0.601864</td>\n",
       "      <td>0.966505</td>\n",
       "      <td>0.160756</td>\n",
       "      <td>0.082196</td>\n",
       "      <td>0.033311</td>\n",
       "      <td>0.238871</td>\n",
       "      <td>0.094516</td>\n",
       "      <td>91.258934</td>\n",
       "      <td>39.0</td>\n",
       "    </tr>\n",
       "    <tr>\n",
       "      <th>4</th>\n",
       "      <td>-2.484843</td>\n",
       "      <td>0.428981</td>\n",
       "      <td>0.041786</td>\n",
       "      <td>0.006110</td>\n",
       "      <td>0.023066</td>\n",
       "      <td>0.001123</td>\n",
       "      <td>0.552002</td>\n",
       "      <td>0.183821</td>\n",
       "      <td>0.552002</td>\n",
       "      <td>0.084338</td>\n",
       "      <td>0.048006</td>\n",
       "      <td>0.014450</td>\n",
       "      <td>0.141906</td>\n",
       "      <td>0.036665</td>\n",
       "      <td>79.725777</td>\n",
       "      <td>35.0</td>\n",
       "    </tr>\n",
       "    <tr>\n",
       "      <th>...</th>\n",
       "      <td>...</td>\n",
       "      <td>...</td>\n",
       "      <td>...</td>\n",
       "      <td>...</td>\n",
       "      <td>...</td>\n",
       "      <td>...</td>\n",
       "      <td>...</td>\n",
       "      <td>...</td>\n",
       "      <td>...</td>\n",
       "      <td>...</td>\n",
       "      <td>...</td>\n",
       "      <td>...</td>\n",
       "      <td>...</td>\n",
       "      <td>...</td>\n",
       "      <td>...</td>\n",
       "      <td>...</td>\n",
       "    </tr>\n",
       "    <tr>\n",
       "      <th>829995</th>\n",
       "      <td>-3.575320</td>\n",
       "      <td>0.473246</td>\n",
       "      <td>0.040693</td>\n",
       "      <td>0.005605</td>\n",
       "      <td>0.053711</td>\n",
       "      <td>0.004402</td>\n",
       "      <td>1.319914</td>\n",
       "      <td>0.785488</td>\n",
       "      <td>1.319914</td>\n",
       "      <td>0.211968</td>\n",
       "      <td>0.106151</td>\n",
       "      <td>0.037546</td>\n",
       "      <td>0.315867</td>\n",
       "      <td>0.123637</td>\n",
       "      <td>72.537308</td>\n",
       "      <td>71.0</td>\n",
       "    </tr>\n",
       "    <tr>\n",
       "      <th>829996</th>\n",
       "      <td>-2.408292</td>\n",
       "      <td>0.429539</td>\n",
       "      <td>0.040022</td>\n",
       "      <td>0.005620</td>\n",
       "      <td>0.020352</td>\n",
       "      <td>0.000804</td>\n",
       "      <td>0.508506</td>\n",
       "      <td>0.143106</td>\n",
       "      <td>0.508506</td>\n",
       "      <td>0.077383</td>\n",
       "      <td>0.043065</td>\n",
       "      <td>0.011398</td>\n",
       "      <td>0.131738</td>\n",
       "      <td>0.028787</td>\n",
       "      <td>77.263367</td>\n",
       "      <td>30.0</td>\n",
       "    </tr>\n",
       "    <tr>\n",
       "      <th>829997</th>\n",
       "      <td>-3.338864</td>\n",
       "      <td>0.467011</td>\n",
       "      <td>0.075235</td>\n",
       "      <td>0.017644</td>\n",
       "      <td>0.097954</td>\n",
       "      <td>0.022681</td>\n",
       "      <td>1.301970</td>\n",
       "      <td>1.285501</td>\n",
       "      <td>1.301970</td>\n",
       "      <td>0.236583</td>\n",
       "      <td>0.110919</td>\n",
       "      <td>0.068624</td>\n",
       "      <td>0.307230</td>\n",
       "      <td>0.183485</td>\n",
       "      <td>136.165955</td>\n",
       "      <td>72.0</td>\n",
       "    </tr>\n",
       "    <tr>\n",
       "      <th>829998</th>\n",
       "      <td>-1.535967</td>\n",
       "      <td>0.335411</td>\n",
       "      <td>0.002537</td>\n",
       "      <td>0.000021</td>\n",
       "      <td>0.002692</td>\n",
       "      <td>0.000017</td>\n",
       "      <td>1.061160</td>\n",
       "      <td>0.797847</td>\n",
       "      <td>1.061160</td>\n",
       "      <td>0.175014</td>\n",
       "      <td>0.086063</td>\n",
       "      <td>0.048476</td>\n",
       "      <td>0.271106</td>\n",
       "      <td>0.161818</td>\n",
       "      <td>4.660848</td>\n",
       "      <td>11.0</td>\n",
       "    </tr>\n",
       "    <tr>\n",
       "      <th>829999</th>\n",
       "      <td>-2.987995</td>\n",
       "      <td>0.455648</td>\n",
       "      <td>0.005218</td>\n",
       "      <td>0.000073</td>\n",
       "      <td>0.006994</td>\n",
       "      <td>0.000099</td>\n",
       "      <td>1.340265</td>\n",
       "      <td>1.357867</td>\n",
       "      <td>1.340265</td>\n",
       "      <td>0.305734</td>\n",
       "      <td>0.158129</td>\n",
       "      <td>0.092861</td>\n",
       "      <td>0.397832</td>\n",
       "      <td>0.257965</td>\n",
       "      <td>11.555076</td>\n",
       "      <td>42.0</td>\n",
       "    </tr>\n",
       "  </tbody>\n",
       "</table>\n",
       "<p>830000 rows × 16 columns</p>\n",
       "</div>"
      ],
      "text/plain": [
       "           zlogz  c1_b0_mmdt  c1_b1_mmdt  c1_b2_mmdt  c2_b1_mmdt  c2_b2_mmdt  \\\n",
       "0      -2.935125    0.383155    0.005126    0.000084    0.009070    0.000179   \n",
       "1      -1.927335    0.270699    0.001585    0.000011    0.003232    0.000029   \n",
       "2      -3.112147    0.458171    0.097914    0.028588    0.124278    0.038487   \n",
       "3      -2.666515    0.437068    0.049122    0.007978    0.047477    0.004802   \n",
       "4      -2.484843    0.428981    0.041786    0.006110    0.023066    0.001123   \n",
       "...          ...         ...         ...         ...         ...         ...   \n",
       "829995 -3.575320    0.473246    0.040693    0.005605    0.053711    0.004402   \n",
       "829996 -2.408292    0.429539    0.040022    0.005620    0.020352    0.000804   \n",
       "829997 -3.338864    0.467011    0.075235    0.017644    0.097954    0.022681   \n",
       "829998 -1.535967    0.335411    0.002537    0.000021    0.002692    0.000017   \n",
       "829999 -2.987995    0.455648    0.005218    0.000073    0.006994    0.000099   \n",
       "\n",
       "        d2_b1_mmdt  d2_b2_mmdt  d2_a1_b1_mmdt  d2_a1_b2_mmdt  m2_b1_mmdt  \\\n",
       "0         1.769445    2.123898       1.769445       0.308185    0.135687   \n",
       "1         2.038834    2.563099       2.038834       0.211886    0.063729   \n",
       "2         1.269254    1.346238       1.269254       0.246488    0.115636   \n",
       "3         0.966505    0.601864       0.966505       0.160756    0.082196   \n",
       "4         0.552002    0.183821       0.552002       0.084338    0.048006   \n",
       "...            ...         ...            ...            ...         ...   \n",
       "829995    1.319914    0.785488       1.319914       0.211968    0.106151   \n",
       "829996    0.508506    0.143106       0.508506       0.077383    0.043065   \n",
       "829997    1.301970    1.285501       1.301970       0.236583    0.110919   \n",
       "829998    1.061160    0.797847       1.061160       0.175014    0.086063   \n",
       "829999    1.340265    1.357867       1.340265       0.305734    0.158129   \n",
       "\n",
       "        m2_b2_mmdt  n2_b1_mmdt  n2_b2_mmdt   mass_mmdt  multiplicity  \n",
       "0         0.083278    0.412136    0.299058    8.926882          75.0  \n",
       "1         0.036310    0.310217    0.226661    3.886512          31.0  \n",
       "2         0.079094    0.357559    0.289220  162.144669          61.0  \n",
       "3         0.033311    0.238871    0.094516   91.258934          39.0  \n",
       "4         0.014450    0.141906    0.036665   79.725777          35.0  \n",
       "...            ...         ...         ...         ...           ...  \n",
       "829995    0.037546    0.315867    0.123637   72.537308          71.0  \n",
       "829996    0.011398    0.131738    0.028787   77.263367          30.0  \n",
       "829997    0.068624    0.307230    0.183485  136.165955          72.0  \n",
       "829998    0.048476    0.271106    0.161818    4.660848          11.0  \n",
       "829999    0.092861    0.397832    0.257965   11.555076          42.0  \n",
       "\n",
       "[830000 rows x 16 columns]"
      ]
     },
     "execution_count": 3,
     "metadata": {},
     "output_type": "execute_result"
    }
   ],
   "source": [
    "features"
   ]
  },
  {
   "cell_type": "markdown",
   "id": "d1e8dc61-dab3-4dc7-8e2a-3f6cb2c1f482",
   "metadata": {},
   "source": [
    "And some summary statistics for each feature:"
   ]
  },
  {
   "cell_type": "code",
   "execution_count": 4,
   "id": "724ce878-4df7-43a9-9f54-d84341e191ae",
   "metadata": {},
   "outputs": [
    {
     "data": {
      "text/html": [
       "<div>\n",
       "<style scoped>\n",
       "    .dataframe tbody tr th:only-of-type {\n",
       "        vertical-align: middle;\n",
       "    }\n",
       "\n",
       "    .dataframe tbody tr th {\n",
       "        vertical-align: top;\n",
       "    }\n",
       "\n",
       "    .dataframe thead th {\n",
       "        text-align: right;\n",
       "    }\n",
       "</style>\n",
       "<table border=\"1\" class=\"dataframe\">\n",
       "  <thead>\n",
       "    <tr style=\"text-align: right;\">\n",
       "      <th></th>\n",
       "      <th>zlogz</th>\n",
       "      <th>c1_b0_mmdt</th>\n",
       "      <th>c1_b1_mmdt</th>\n",
       "      <th>c1_b2_mmdt</th>\n",
       "      <th>c2_b1_mmdt</th>\n",
       "      <th>c2_b2_mmdt</th>\n",
       "      <th>d2_b1_mmdt</th>\n",
       "      <th>d2_b2_mmdt</th>\n",
       "      <th>d2_a1_b1_mmdt</th>\n",
       "      <th>d2_a1_b2_mmdt</th>\n",
       "      <th>m2_b1_mmdt</th>\n",
       "      <th>m2_b2_mmdt</th>\n",
       "      <th>n2_b1_mmdt</th>\n",
       "      <th>n2_b2_mmdt</th>\n",
       "      <th>mass_mmdt</th>\n",
       "      <th>multiplicity</th>\n",
       "    </tr>\n",
       "  </thead>\n",
       "  <tbody>\n",
       "    <tr>\n",
       "      <th>count</th>\n",
       "      <td>830000.000000</td>\n",
       "      <td>830000.000000</td>\n",
       "      <td>830000.000000</td>\n",
       "      <td>8.300000e+05</td>\n",
       "      <td>830000.000000</td>\n",
       "      <td>8.300000e+05</td>\n",
       "      <td>830000.000000</td>\n",
       "      <td>830000.000000</td>\n",
       "      <td>830000.000000</td>\n",
       "      <td>830000.000000</td>\n",
       "      <td>830000.000000</td>\n",
       "      <td>830000.000000</td>\n",
       "      <td>830000.000000</td>\n",
       "      <td>830000.000000</td>\n",
       "      <td>830000.000000</td>\n",
       "      <td>830000.000000</td>\n",
       "    </tr>\n",
       "    <tr>\n",
       "      <th>mean</th>\n",
       "      <td>-2.865343</td>\n",
       "      <td>0.433322</td>\n",
       "      <td>0.037766</td>\n",
       "      <td>7.995166e-03</td>\n",
       "      <td>0.045608</td>\n",
       "      <td>7.609470e-03</td>\n",
       "      <td>1.295784</td>\n",
       "      <td>1.083618</td>\n",
       "      <td>1.295784</td>\n",
       "      <td>0.190380</td>\n",
       "      <td>0.090024</td>\n",
       "      <td>0.042460</td>\n",
       "      <td>0.281169</td>\n",
       "      <td>0.143915</td>\n",
       "      <td>75.153610</td>\n",
       "      <td>51.887834</td>\n",
       "    </tr>\n",
       "    <tr>\n",
       "      <th>std</th>\n",
       "      <td>0.580389</td>\n",
       "      <td>0.055448</td>\n",
       "      <td>0.029154</td>\n",
       "      <td>9.402567e-03</td>\n",
       "      <td>0.038657</td>\n",
       "      <td>1.217365e-02</td>\n",
       "      <td>0.458041</td>\n",
       "      <td>0.730066</td>\n",
       "      <td>0.458041</td>\n",
       "      <td>0.075417</td>\n",
       "      <td>0.036523</td>\n",
       "      <td>0.026396</td>\n",
       "      <td>0.084556</td>\n",
       "      <td>0.080461</td>\n",
       "      <td>55.612557</td>\n",
       "      <td>21.677036</td>\n",
       "    </tr>\n",
       "    <tr>\n",
       "      <th>min</th>\n",
       "      <td>-4.759511</td>\n",
       "      <td>0.091104</td>\n",
       "      <td>0.000073</td>\n",
       "      <td>4.472011e-08</td>\n",
       "      <td>0.000002</td>\n",
       "      <td>1.472518e-10</td>\n",
       "      <td>0.005866</td>\n",
       "      <td>0.000156</td>\n",
       "      <td>0.005866</td>\n",
       "      <td>0.000213</td>\n",
       "      <td>0.000077</td>\n",
       "      <td>0.000002</td>\n",
       "      <td>0.000643</td>\n",
       "      <td>0.000018</td>\n",
       "      <td>0.113449</td>\n",
       "      <td>6.000000</td>\n",
       "    </tr>\n",
       "    <tr>\n",
       "      <th>25%</th>\n",
       "      <td>-3.283773</td>\n",
       "      <td>0.419295</td>\n",
       "      <td>0.009977</td>\n",
       "      <td>3.371321e-04</td>\n",
       "      <td>0.015352</td>\n",
       "      <td>4.735599e-04</td>\n",
       "      <td>0.976546</td>\n",
       "      <td>0.485602</td>\n",
       "      <td>0.976546</td>\n",
       "      <td>0.125212</td>\n",
       "      <td>0.059285</td>\n",
       "      <td>0.018935</td>\n",
       "      <td>0.213851</td>\n",
       "      <td>0.071025</td>\n",
       "      <td>19.084184</td>\n",
       "      <td>36.000000</td>\n",
       "    </tr>\n",
       "    <tr>\n",
       "      <th>50%</th>\n",
       "      <td>-2.909453</td>\n",
       "      <td>0.452219</td>\n",
       "      <td>0.037919</td>\n",
       "      <td>5.950152e-03</td>\n",
       "      <td>0.036848</td>\n",
       "      <td>2.501090e-03</td>\n",
       "      <td>1.278506</td>\n",
       "      <td>0.983084</td>\n",
       "      <td>1.278506</td>\n",
       "      <td>0.192994</td>\n",
       "      <td>0.089061</td>\n",
       "      <td>0.038755</td>\n",
       "      <td>0.292299</td>\n",
       "      <td>0.139280</td>\n",
       "      <td>80.106373</td>\n",
       "      <td>48.000000</td>\n",
       "    </tr>\n",
       "    <tr>\n",
       "      <th>75%</th>\n",
       "      <td>-2.493677</td>\n",
       "      <td>0.468801</td>\n",
       "      <td>0.048510</td>\n",
       "      <td>8.193400e-03</td>\n",
       "      <td>0.062181</td>\n",
       "      <td>7.816279e-03</td>\n",
       "      <td>1.559999</td>\n",
       "      <td>1.505659</td>\n",
       "      <td>1.559999</td>\n",
       "      <td>0.251016</td>\n",
       "      <td>0.118213</td>\n",
       "      <td>0.062612</td>\n",
       "      <td>0.350496</td>\n",
       "      <td>0.210668</td>\n",
       "      <td>93.843903</td>\n",
       "      <td>64.000000</td>\n",
       "    </tr>\n",
       "    <tr>\n",
       "      <th>max</th>\n",
       "      <td>-0.438996</td>\n",
       "      <td>0.493779</td>\n",
       "      <td>0.165237</td>\n",
       "      <td>7.122659e-02</td>\n",
       "      <td>0.219034</td>\n",
       "      <td>1.079140e-01</td>\n",
       "      <td>3.968144</td>\n",
       "      <td>6.408456</td>\n",
       "      <td>3.968144</td>\n",
       "      <td>0.366573</td>\n",
       "      <td>0.187837</td>\n",
       "      <td>0.137693</td>\n",
       "      <td>0.449523</td>\n",
       "      <td>0.337616</td>\n",
       "      <td>573.616516</td>\n",
       "      <td>212.000000</td>\n",
       "    </tr>\n",
       "  </tbody>\n",
       "</table>\n",
       "</div>"
      ],
      "text/plain": [
       "               zlogz     c1_b0_mmdt     c1_b1_mmdt    c1_b2_mmdt  \\\n",
       "count  830000.000000  830000.000000  830000.000000  8.300000e+05   \n",
       "mean       -2.865343       0.433322       0.037766  7.995166e-03   \n",
       "std         0.580389       0.055448       0.029154  9.402567e-03   \n",
       "min        -4.759511       0.091104       0.000073  4.472011e-08   \n",
       "25%        -3.283773       0.419295       0.009977  3.371321e-04   \n",
       "50%        -2.909453       0.452219       0.037919  5.950152e-03   \n",
       "75%        -2.493677       0.468801       0.048510  8.193400e-03   \n",
       "max        -0.438996       0.493779       0.165237  7.122659e-02   \n",
       "\n",
       "          c2_b1_mmdt    c2_b2_mmdt     d2_b1_mmdt     d2_b2_mmdt  \\\n",
       "count  830000.000000  8.300000e+05  830000.000000  830000.000000   \n",
       "mean        0.045608  7.609470e-03       1.295784       1.083618   \n",
       "std         0.038657  1.217365e-02       0.458041       0.730066   \n",
       "min         0.000002  1.472518e-10       0.005866       0.000156   \n",
       "25%         0.015352  4.735599e-04       0.976546       0.485602   \n",
       "50%         0.036848  2.501090e-03       1.278506       0.983084   \n",
       "75%         0.062181  7.816279e-03       1.559999       1.505659   \n",
       "max         0.219034  1.079140e-01       3.968144       6.408456   \n",
       "\n",
       "       d2_a1_b1_mmdt  d2_a1_b2_mmdt     m2_b1_mmdt     m2_b2_mmdt  \\\n",
       "count  830000.000000  830000.000000  830000.000000  830000.000000   \n",
       "mean        1.295784       0.190380       0.090024       0.042460   \n",
       "std         0.458041       0.075417       0.036523       0.026396   \n",
       "min         0.005866       0.000213       0.000077       0.000002   \n",
       "25%         0.976546       0.125212       0.059285       0.018935   \n",
       "50%         1.278506       0.192994       0.089061       0.038755   \n",
       "75%         1.559999       0.251016       0.118213       0.062612   \n",
       "max         3.968144       0.366573       0.187837       0.137693   \n",
       "\n",
       "          n2_b1_mmdt     n2_b2_mmdt      mass_mmdt   multiplicity  \n",
       "count  830000.000000  830000.000000  830000.000000  830000.000000  \n",
       "mean        0.281169       0.143915      75.153610      51.887834  \n",
       "std         0.084556       0.080461      55.612557      21.677036  \n",
       "min         0.000643       0.000018       0.113449       6.000000  \n",
       "25%         0.213851       0.071025      19.084184      36.000000  \n",
       "50%         0.292299       0.139280      80.106373      48.000000  \n",
       "75%         0.350496       0.210668      93.843903      64.000000  \n",
       "max         0.449523       0.337616     573.616516     212.000000  "
      ]
     },
     "execution_count": 4,
     "metadata": {},
     "output_type": "execute_result"
    }
   ],
   "source": [
    "features.describe()"
   ]
  },
  {
   "cell_type": "markdown",
   "id": "a4e04e3b-3168-41de-b400-7168857512f1",
   "metadata": {},
   "source": [
    "You can convert the (830000 row × 16 column) DataFrame into a NumPy array (of shape `(830000, 16)`) with"
   ]
  },
  {
   "cell_type": "code",
   "execution_count": 8,
   "id": "144bad0f-a6d4-494d-b73a-76c0860c11b1",
   "metadata": {},
   "outputs": [
    {
     "data": {
      "text/plain": [
       "array([[-2.93512535e+00,  3.83155316e-01,  5.12587558e-03, ...,\n",
       "         2.99057871e-01,  8.92688179e+00,  7.50000000e+01],\n",
       "       [-1.92733514e+00,  2.70698756e-01,  1.58540264e-03, ...,\n",
       "         2.26661310e-01,  3.88651156e+00,  3.10000000e+01],\n",
       "       [-3.11214662e+00,  4.58171129e-01,  9.79138538e-02, ...,\n",
       "         2.89219588e-01,  1.62144669e+02,  6.10000000e+01],\n",
       "       ...,\n",
       "       [-3.33886433e+00,  4.67011213e-01,  7.52350464e-02, ...,\n",
       "         1.83485478e-01,  1.36165955e+02,  7.20000000e+01],\n",
       "       [-1.53596663e+00,  3.35411340e-01,  2.53672758e-03, ...,\n",
       "         1.61818489e-01,  4.66084814e+00,  1.10000000e+01],\n",
       "       [-2.98799491e+00,  4.55647677e-01,  5.21810818e-03, ...,\n",
       "         2.57964820e-01,  1.15550756e+01,  4.20000000e+01]])"
      ]
     },
     "execution_count": 8,
     "metadata": {},
     "output_type": "execute_result"
    }
   ],
   "source": [
    "features.values"
   ]
  },
  {
   "cell_type": "markdown",
   "id": "a44348ac-ece4-4d74-adb7-00c23ca452cf",
   "metadata": {},
   "source": [
    "<br><br><br><br><br>"
   ]
  },
  {
   "cell_type": "markdown",
   "id": "1687e139-7e4c-4de3-aebc-5f9c7d02f407",
   "metadata": {},
   "source": [
    "View the target (5 jet categories) as a Pandas Series:"
   ]
  },
  {
   "cell_type": "code",
   "execution_count": 5,
   "id": "d265f984-a159-4ac9-8ed2-7c519f37103f",
   "metadata": {},
   "outputs": [
    {
     "data": {
      "text/plain": [
       "0         g\n",
       "1         w\n",
       "2         t\n",
       "3         z\n",
       "4         w\n",
       "         ..\n",
       "829995    z\n",
       "829996    w\n",
       "829997    t\n",
       "829998    q\n",
       "829999    g\n",
       "Name: class, Length: 830000, dtype: category\n",
       "Categories (5, object): ['g', 'q', 't', 'w', 'z']"
      ]
     },
     "execution_count": 5,
     "metadata": {},
     "output_type": "execute_result"
    }
   ],
   "source": [
    "targets"
   ]
  },
  {
   "cell_type": "markdown",
   "id": "149d592e-629e-49e0-af12-98ac77dc8700",
   "metadata": {},
   "source": [
    "The categories are represented as 5 Python strings (`dtype='object'` means Python objects in a NumPy array/Pandas Series)."
   ]
  },
  {
   "cell_type": "code",
   "execution_count": 6,
   "id": "d4c8036b-fcf7-44cc-b807-2edadb785187",
   "metadata": {},
   "outputs": [
    {
     "data": {
      "text/plain": [
       "Index(['g', 'q', 't', 'w', 'z'], dtype='object')"
      ]
     },
     "execution_count": 6,
     "metadata": {},
     "output_type": "execute_result"
    }
   ],
   "source": [
    "targets.cat.categories"
   ]
  },
  {
   "cell_type": "markdown",
   "id": "41b76724-1853-43bc-95d4-574b93ffdd2b",
   "metadata": {},
   "source": [
    "But the large dataset consists of (8-bit) integers corresponding to the position in this list of categories."
   ]
  },
  {
   "cell_type": "code",
   "execution_count": 7,
   "id": "14004195-3beb-43fd-a5d2-288326fc52d8",
   "metadata": {},
   "outputs": [
    {
     "data": {
      "text/plain": [
       "0         0\n",
       "1         3\n",
       "2         2\n",
       "3         4\n",
       "4         3\n",
       "         ..\n",
       "829995    4\n",
       "829996    3\n",
       "829997    2\n",
       "829998    1\n",
       "829999    0\n",
       "Length: 830000, dtype: int8"
      ]
     },
     "execution_count": 7,
     "metadata": {},
     "output_type": "execute_result"
    }
   ],
   "source": [
    "targets.cat.codes"
   ]
  },
  {
   "cell_type": "code",
   "execution_count": 9,
   "id": "50624410-54e9-4bf6-b59b-bd339a242a52",
   "metadata": {},
   "outputs": [
    {
     "data": {
      "text/plain": [
       "array([0, 3, 2, ..., 2, 1, 0], dtype=int8)"
      ]
     },
     "execution_count": 9,
     "metadata": {},
     "output_type": "execute_result"
    }
   ],
   "source": [
    "targets.cat.codes.values"
   ]
  },
  {
   "cell_type": "markdown",
   "id": "147110db-bfdc-46d5-8f34-0f07c24ad0b4",
   "metadata": {},
   "source": [
    "<br><br><br><br><br>"
   ]
  },
  {
   "cell_type": "markdown",
   "id": "6340a7cc-0f6f-4bac-9d98-0dec23262815",
   "metadata": {},
   "source": [
    "As for the physical meaning of these features and targets, there's more in the paper, but\n",
    "\n",
    "* `'g'` means gluon jet (a gluon from the original proton-proton collision hadronized into a jet)\n",
    "* `'q'` means a light quark hadronized into a jet: up (u), down (d), or strange (s)\n",
    "* `'t'` means a top (t) quark decayed into a bottom (b) quark and a W boson, which subsequently decayed and hadronized\n",
    "* `'W'` means a W boson directly from the original proton-proton collision decayed and its constituents hadronized\n",
    "* `'Z'` means the same thing for a Z boson"
   ]
  },
  {
   "cell_type": "markdown",
   "id": "fe5cde20-d9d2-4078-bc97-79a2ca26329a",
   "metadata": {},
   "source": [
    "<img src=\"../img/JetDataset.png\" width=\"429\">"
   ]
  },
  {
   "cell_type": "markdown",
   "id": "e145892e-e7fa-4e8f-9479-fda8bb312e89",
   "metadata": {},
   "source": [
    "Each of these physical processes produces systematically different jet shapes, as characterized by the 16 input features.\n",
    "\n",
    "The distributions of these jet shapes overlap, so this is a job for machine learning! (Not just manually chosen cuts, for instance.)\n",
    "\n",
    "Use the space below for any plotting. It's always good to look at the data (in _some_ way) before trying to fit it."
   ]
  },
  {
   "cell_type": "code",
   "execution_count": null,
   "id": "5b8d1cf1-23f7-4266-a310-15fd2ffdc786",
   "metadata": {},
   "outputs": [],
   "source": []
  },
  {
   "cell_type": "code",
   "execution_count": null,
   "id": "936b8020-03eb-4609-a990-2e9496c8e037",
   "metadata": {},
   "outputs": [],
   "source": []
  },
  {
   "cell_type": "code",
   "execution_count": null,
   "id": "7b722938-37f9-42cb-bbcc-09678a1f2d79",
   "metadata": {},
   "outputs": [],
   "source": []
  },
  {
   "cell_type": "markdown",
   "id": "fd56de17-2fde-41df-a1cf-866208c451f4",
   "metadata": {},
   "source": [
    "<br><br><br><br><br>"
   ]
  },
  {
   "cell_type": "markdown",
   "id": "3fa62e42-ed41-4c51-84d3-bb677d3b2a34",
   "metadata": {},
   "source": [
    "### Step 2: Split the data into training, validation, and test samples"
   ]
  },
  {
   "cell_type": "markdown",
   "id": "40ee01bb-3e01-4e2a-a488-adb68ff67fce",
   "metadata": {},
   "source": [
    "For this exercise, put\n",
    "\n",
    "* 80% of the data into the training sample, which the optimizer will use in its fits\n",
    "* 10% of the data into the validation sample, which you will look at while developing the model\n",
    "* 10% of the data into the test sample, which you should not look at until you're done and making the final ROC curve\n",
    "\n",
    "These data are supposed to be Independent and Identically Distributed (IID), but just in case there are any beginning-of-dataset, end-of-dataset biases, sample them randomly.\n",
    "\n",
    "Scikit-Learn has a [sklearn.model_selection.train_test_split](https://scikit-learn.org/stable/modules/generated/sklearn.model_selection.train_test_split.html), PyTorch has a [torch.utils.data.random_split](https://pytorch.org/docs/stable/data.html#torch.utils.data.random_split), or you can do it manually."
   ]
  },
  {
   "cell_type": "code",
   "execution_count": null,
   "id": "0b7cba27-5259-47df-98b9-4db8479195ee",
   "metadata": {},
   "outputs": [],
   "source": []
  },
  {
   "cell_type": "code",
   "execution_count": null,
   "id": "d7b6cc4a-5ee7-48de-b1fc-9eccdc801c44",
   "metadata": {},
   "outputs": [],
   "source": []
  },
  {
   "cell_type": "code",
   "execution_count": null,
   "id": "688f7b06-adff-4bc6-a03c-b09103914448",
   "metadata": {},
   "outputs": [],
   "source": []
  },
  {
   "cell_type": "markdown",
   "id": "605faecb-70b2-42b4-ad4b-2fdad18a793c",
   "metadata": {},
   "source": [
    "<br><br><br><br><br>"
   ]
  },
  {
   "cell_type": "markdown",
   "id": "fbe882fc-9ecd-458a-b411-36b15784c349",
   "metadata": {},
   "source": [
    "### Step 3: Build a classifier neural network"
   ]
  },
  {
   "cell_type": "markdown",
   "id": "478284cb-fd7c-4208-9537-9eaf92e03788",
   "metadata": {},
   "source": [
    "It should have the following architecture:\n",
    "\n",
    "* take the 16 numerical features as input\n",
    "* have 3 (fully connected) hidden layers with 32 neurons each\n",
    "* return probabilities for the 5 output categories\n",
    "\n",
    "Use any tools you have to improve the quality of the model, but the model should be implemented in PyTorch.\n",
    "\n",
    "Think about all of the issues covered in [Lesson 2: Issues in Practice](../lesson-2-issues/lecture-slides.ipynb)."
   ]
  },
  {
   "cell_type": "code",
   "execution_count": null,
   "id": "e3e99f64-4e9f-41ce-ab66-44e9b24ac226",
   "metadata": {},
   "outputs": [],
   "source": []
  },
  {
   "cell_type": "code",
   "execution_count": null,
   "id": "d45b23c4-cc99-403d-aca5-da16fdadb7c6",
   "metadata": {},
   "outputs": [],
   "source": []
  },
  {
   "cell_type": "code",
   "execution_count": null,
   "id": "61a38212-2733-4a57-b3cc-aebfb88455c3",
   "metadata": {},
   "outputs": [],
   "source": []
  },
  {
   "cell_type": "markdown",
   "id": "30a6e522-3eb7-46a2-a85f-48d477292215",
   "metadata": {},
   "source": [
    "<br><br><br><br><br>"
   ]
  },
  {
   "cell_type": "markdown",
   "id": "87699a9a-0828-44c0-b589-761d349c806b",
   "metadata": {},
   "source": [
    "### Step 4: Monitor the loss function"
   ]
  },
  {
   "cell_type": "markdown",
   "id": "0049749a-f085-432f-8bf7-4821e615bfb8",
   "metadata": {},
   "source": [
    "Plot the loss function versus epoch for the training sample and the validation sample (and _not_ the test sample!).\n",
    "\n",
    "Do they diverge? If so, what can you do about that?"
   ]
  },
  {
   "cell_type": "code",
   "execution_count": null,
   "id": "d3907e3b-3b20-4c89-8cd2-4ece5d986fd0",
   "metadata": {},
   "outputs": [],
   "source": []
  },
  {
   "cell_type": "code",
   "execution_count": null,
   "id": "b0cb1b99-2aec-4770-9a82-1991e3146704",
   "metadata": {},
   "outputs": [],
   "source": []
  },
  {
   "cell_type": "code",
   "execution_count": null,
   "id": "9beeeabb-1608-4a3f-aa2d-0ca4e8341435",
   "metadata": {},
   "outputs": [],
   "source": []
  },
  {
   "cell_type": "markdown",
   "id": "687eae8c-e772-4373-83c1-b620239db870",
   "metadata": {},
   "source": [
    "<br><br><br><br><br>"
   ]
  },
  {
   "cell_type": "markdown",
   "id": "7d65a2f4-f6e1-403d-adad-2ffbf80d4aef",
   "metadata": {},
   "source": [
    "### Step 5: "
   ]
  }
 ],
 "metadata": {
  "kernelspec": {
   "display_name": "Python 3 (ipykernel)",
   "language": "python",
   "name": "python3"
  },
  "language_info": {
   "codemirror_mode": {
    "name": "ipython",
    "version": 3
   },
   "file_extension": ".py",
   "mimetype": "text/x-python",
   "name": "python",
   "nbconvert_exporter": "python",
   "pygments_lexer": "ipython3",
   "version": "3.11.9"
  }
 },
 "nbformat": 4,
 "nbformat_minor": 5
}
