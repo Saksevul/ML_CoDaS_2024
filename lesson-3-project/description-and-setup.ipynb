{
 "cells": [
  {
   "cell_type": "markdown",
   "id": "4aaaf147-6e95-4412-b440-1d949aaa1f42",
   "metadata": {},
   "source": [
    "# Machine Learning at CoDaS-HEP 2024, Lesson 3: Main Project"
   ]
  },
  {
   "cell_type": "code",
   "execution_count": null,
   "id": "d1ac5d93-c601-45ab-83bc-a72969e4f7a4",
   "metadata": {},
   "outputs": [],
   "source": [
    "import numpy as np\n",
    "import pandas as pd\n",
    "import matplotlib.pyplot as plt\n",
    "\n",
    "import sklearn.datasets\n",
    "import torch\n",
    "from torch import nn\n",
    "from torch import optim"
   ]
  },
  {
   "cell_type": "markdown",
   "id": "3f560746-07fb-41e4-be7a-6a3d82a594df",
   "metadata": {},
   "source": [
    "<br><br><br><br><br>"
   ]
  },
  {
   "cell_type": "markdown",
   "id": "7f6670b8-f183-45e8-96e7-3cc5f6351741",
   "metadata": {},
   "source": [
    "## Project 1: classify jets with a neural network"
   ]
  },
  {
   "cell_type": "markdown",
   "id": "278fd76a-9848-4700-a989-00fe01c9a12d",
   "metadata": {},
   "source": [
    "### Step 0: Put your name on the results sheet"
   ]
  },
  {
   "cell_type": "markdown",
   "id": "9f1e91ff-e4e4-40df-93ac-9d0561667076",
   "metadata": {},
   "source": [
    "Go to the [Google Spreadsheet for this course](https://docs.google.com/spreadsheets/d/1nRtNJoxW1i-jCr04ZHUlfv0DU4tMGbyvCZcpXakYedE/edit?usp=sharing) and add your name to the _second_ sheet (tab on the bottom of the window):\n",
    "\n",
    "<a href=\"https://docs.google.com/spreadsheets/d/1nRtNJoxW1i-jCr04ZHUlfv0DU4tMGbyvCZcpXakYedE/edit?usp=sharing\"><img src=\"../img/google-sheet-main-project.png\" width=\"700\"></a>\n",
    "\n",
    "Your results (a ROC curve) will go _below_ your name. You own a column of this spreadsheet."
   ]
  },
  {
   "cell_type": "markdown",
   "id": "b98698b3-521b-4505-a359-fb7dc0acd3a1",
   "metadata": {},
   "source": [
    "<br><br><br><br><br>"
   ]
  },
  {
   "cell_type": "markdown",
   "id": "95749cf6-1498-4ea9-b656-a0d0284f819e",
   "metadata": {},
   "source": [
    "### Step 1: Download and understand the data"
   ]
  },
  {
   "cell_type": "markdown",
   "id": "03ec73ea-11cf-46e1-9533-7fffad18854d",
   "metadata": {},
   "source": [
    "We'll use an LHC dataset from an online catalog, [hls4ml_lhc_jets_hlf](https://openml.org/search?type=data&status=active&id=42468).\n",
    "\n",
    "The full description is online, with references to the paper in which it was published.\n",
    "\n",
    "Scikit-Learn has a tool for downloading it (takes a minute or two)."
   ]
  },
  {
   "cell_type": "code",
   "execution_count": null,
   "id": "508381bf-1433-4d3d-9c0d-d7316f37aab9",
   "metadata": {},
   "outputs": [],
   "source": [
    "hls4ml_lhc_jets_hlf = sklearn.datasets.fetch_openml(\"hls4ml_lhc_jets_hlf\")\n",
    "\n",
    "features, targets = hls4ml_lhc_jets_hlf[\"data\"], hls4ml_lhc_jets_hlf[\"target\"]"
   ]
  },
  {
   "cell_type": "markdown",
   "id": "9e439462-aacd-417f-a485-293cc0e455eb",
   "metadata": {},
   "source": [
    "View the features (16 numerical properties of jets) as a Pandas DataFrame:"
   ]
  },
  {
   "cell_type": "code",
   "execution_count": null,
   "id": "391ff327-e1c1-4f0b-b4d1-f954d1534add",
   "metadata": {},
   "outputs": [],
   "source": [
    "features"
   ]
  },
  {
   "cell_type": "markdown",
   "id": "d1e8dc61-dab3-4dc7-8e2a-3f6cb2c1f482",
   "metadata": {},
   "source": [
    "And some summary statistics for each feature:"
   ]
  },
  {
   "cell_type": "code",
   "execution_count": null,
   "id": "724ce878-4df7-43a9-9f54-d84341e191ae",
   "metadata": {},
   "outputs": [],
   "source": [
    "features.describe()"
   ]
  },
  {
   "cell_type": "markdown",
   "id": "a4e04e3b-3168-41de-b400-7168857512f1",
   "metadata": {},
   "source": [
    "You can convert the (830000 row × 16 column) DataFrame into a NumPy array (of shape `(830000, 16)`) with"
   ]
  },
  {
   "cell_type": "code",
   "execution_count": null,
   "id": "144bad0f-a6d4-494d-b73a-76c0860c11b1",
   "metadata": {},
   "outputs": [],
   "source": [
    "features.values"
   ]
  },
  {
   "cell_type": "markdown",
   "id": "a44348ac-ece4-4d74-adb7-00c23ca452cf",
   "metadata": {},
   "source": [
    "<br><br><br><br><br>"
   ]
  },
  {
   "cell_type": "markdown",
   "id": "1687e139-7e4c-4de3-aebc-5f9c7d02f407",
   "metadata": {},
   "source": [
    "View the target (5 jet categories) as a Pandas Series:"
   ]
  },
  {
   "cell_type": "code",
   "execution_count": null,
   "id": "d265f984-a159-4ac9-8ed2-7c519f37103f",
   "metadata": {},
   "outputs": [],
   "source": [
    "targets"
   ]
  },
  {
   "cell_type": "markdown",
   "id": "149d592e-629e-49e0-af12-98ac77dc8700",
   "metadata": {},
   "source": [
    "The categories are represented as 5 Python strings (`dtype='object'` means Python objects in a NumPy array/Pandas Series)."
   ]
  },
  {
   "cell_type": "code",
   "execution_count": null,
   "id": "d4c8036b-fcf7-44cc-b807-2edadb785187",
   "metadata": {},
   "outputs": [],
   "source": [
    "targets.cat.categories"
   ]
  },
  {
   "cell_type": "markdown",
   "id": "41b76724-1853-43bc-95d4-574b93ffdd2b",
   "metadata": {},
   "source": [
    "But the large dataset consists of (8-bit) integers corresponding to the position in this list of categories."
   ]
  },
  {
   "cell_type": "code",
   "execution_count": null,
   "id": "14004195-3beb-43fd-a5d2-288326fc52d8",
   "metadata": {},
   "outputs": [],
   "source": [
    "targets.cat.codes"
   ]
  },
  {
   "cell_type": "code",
   "execution_count": null,
   "id": "50624410-54e9-4bf6-b59b-bd339a242a52",
   "metadata": {},
   "outputs": [],
   "source": [
    "targets.cat.codes.values"
   ]
  },
  {
   "cell_type": "markdown",
   "id": "147110db-bfdc-46d5-8f34-0f07c24ad0b4",
   "metadata": {},
   "source": [
    "<br><br><br><br><br>"
   ]
  },
  {
   "cell_type": "markdown",
   "id": "6340a7cc-0f6f-4bac-9d98-0dec23262815",
   "metadata": {},
   "source": [
    "As for the physical meaning of these features and targets, there's more in the paper, but\n",
    "\n",
    "* `'g'` means gluon jet (a gluon from the original proton-proton collision hadronized into a jet)\n",
    "* `'q'` means a light quark hadronized into a jet: up (u), down (d), or strange (s)\n",
    "* `'t'` means a top (t) quark decayed into a bottom (b) quark and a W boson, which subsequently decayed and hadronized\n",
    "* `'W'` means a W boson directly from the original proton-proton collision decayed and its constituents hadronized\n",
    "* `'Z'` means the same thing for a Z boson"
   ]
  },
  {
   "cell_type": "markdown",
   "id": "fe5cde20-d9d2-4078-bc97-79a2ca26329a",
   "metadata": {},
   "source": [
    "<img src=\"../img/JetDataset.png\" width=\"429\">"
   ]
  },
  {
   "cell_type": "markdown",
   "id": "e145892e-e7fa-4e8f-9479-fda8bb312e89",
   "metadata": {},
   "source": [
    "Each of these physical processes produces systematically different jet shapes, as characterized by the 16 input features.\n",
    "\n",
    "The distributions of these jet shapes overlap, so this is a job for machine learning! (Not just manually chosen cuts, for instance.)\n",
    "\n",
    "Use the space below for any plotting. It's always good to look at the data (in _some_ way) before trying to fit it."
   ]
  },
  {
   "cell_type": "code",
   "execution_count": null,
   "id": "5b8d1cf1-23f7-4266-a310-15fd2ffdc786",
   "metadata": {},
   "outputs": [],
   "source": []
  },
  {
   "cell_type": "code",
   "execution_count": null,
   "id": "936b8020-03eb-4609-a990-2e9496c8e037",
   "metadata": {},
   "outputs": [],
   "source": []
  },
  {
   "cell_type": "code",
   "execution_count": null,
   "id": "7b722938-37f9-42cb-bbcc-09678a1f2d79",
   "metadata": {},
   "outputs": [],
   "source": []
  },
  {
   "cell_type": "markdown",
   "id": "fd56de17-2fde-41df-a1cf-866208c451f4",
   "metadata": {},
   "source": [
    "<br><br><br><br><br>"
   ]
  },
  {
   "cell_type": "markdown",
   "id": "3fa62e42-ed41-4c51-84d3-bb677d3b2a34",
   "metadata": {},
   "source": [
    "### Step 2: Split the data into training, validation, and test samples"
   ]
  },
  {
   "cell_type": "markdown",
   "id": "40ee01bb-3e01-4e2a-a488-adb68ff67fce",
   "metadata": {},
   "source": [
    "For this exercise, put\n",
    "\n",
    "* 80% of the data into the training sample, which the optimizer will use in its fits\n",
    "* 10% of the data into the validation sample, which you will look at while developing the model\n",
    "* 10% of the data into the test sample, which you should not look at until you're done and making the final ROC curve\n",
    "\n",
    "These data are supposed to be Independent and Identically Distributed (IID), but just in case there are any beginning-of-dataset, end-of-dataset biases, sample them randomly (or at least in an interleaved way).\n",
    "\n",
    "Scikit-Learn has a [sklearn.model_selection.train_test_split](https://scikit-learn.org/stable/modules/generated/sklearn.model_selection.train_test_split.html), PyTorch has a [torch.utils.data.random_split](https://pytorch.org/docs/stable/data.html#torch.utils.data.random_split), or you can do it manually."
   ]
  },
  {
   "cell_type": "code",
   "execution_count": null,
   "id": "0b7cba27-5259-47df-98b9-4db8479195ee",
   "metadata": {},
   "outputs": [],
   "source": []
  },
  {
   "cell_type": "code",
   "execution_count": null,
   "id": "d7b6cc4a-5ee7-48de-b1fc-9eccdc801c44",
   "metadata": {},
   "outputs": [],
   "source": []
  },
  {
   "cell_type": "code",
   "execution_count": null,
   "id": "688f7b06-adff-4bc6-a03c-b09103914448",
   "metadata": {},
   "outputs": [],
   "source": []
  },
  {
   "cell_type": "markdown",
   "id": "605faecb-70b2-42b4-ad4b-2fdad18a793c",
   "metadata": {},
   "source": [
    "<br><br><br><br><br>"
   ]
  },
  {
   "cell_type": "markdown",
   "id": "fbe882fc-9ecd-458a-b411-36b15784c349",
   "metadata": {},
   "source": [
    "### Step 3: Build a classifier neural network"
   ]
  },
  {
   "cell_type": "markdown",
   "id": "478284cb-fd7c-4208-9537-9eaf92e03788",
   "metadata": {},
   "source": [
    "It should have the following architecture:\n",
    "\n",
    "* take the 16 numerical features as input\n",
    "* have 3 (fully connected) hidden layers with 32 neurons each\n",
    "* return probabilities for the 5 output categories\n",
    "\n",
    "Use any tools you have to improve the quality of the model, but the model should be implemented in PyTorch.\n",
    "\n",
    "Think about all of the issues covered in [Lesson 2: Issues in Practice](../lesson-2-issues/lecture-slides.ipynb).\n",
    "\n",
    "If you use [nn.CrossEntropyLoss](https://pytorch.org/docs/stable/generated/torch.nn.CrossEntropyLoss.html) (that's not the only way!), remember that it applies a softmax to predicted values you give it, so your model can't also apply a softmax, and it can take the target values as a 1-dimensional array of integers (the true category) or as a 2-dimensional array of one-hot vectors (the category probabilities, which are all 0's and 1's).\n",
    "\n",
    "Since all of the examples in Lesson 2 had small datasets, we used an excessive number of epochs. For this large dataset, you shouldn't need more than 10 epochs, and it can be useful to debug your model one epoch at a time. Print out useful information in the loop over epochs, so that you don't have to wait for the whole thing to finish.\n",
    "\n",
    "Helpful hint: are the input data close to the $(-1, 1)$ interval? If not, what can you do?"
   ]
  },
  {
   "cell_type": "code",
   "execution_count": null,
   "id": "e3e99f64-4e9f-41ce-ab66-44e9b24ac226",
   "metadata": {},
   "outputs": [],
   "source": []
  },
  {
   "cell_type": "code",
   "execution_count": null,
   "id": "d45b23c4-cc99-403d-aca5-da16fdadb7c6",
   "metadata": {},
   "outputs": [],
   "source": []
  },
  {
   "cell_type": "code",
   "execution_count": null,
   "id": "61a38212-2733-4a57-b3cc-aebfb88455c3",
   "metadata": {},
   "outputs": [],
   "source": []
  },
  {
   "cell_type": "markdown",
   "id": "30a6e522-3eb7-46a2-a85f-48d477292215",
   "metadata": {},
   "source": [
    "<br><br><br><br><br>"
   ]
  },
  {
   "cell_type": "markdown",
   "id": "87699a9a-0828-44c0-b589-761d349c806b",
   "metadata": {},
   "source": [
    "### Step 4: Monitor the loss function"
   ]
  },
  {
   "cell_type": "markdown",
   "id": "0049749a-f085-432f-8bf7-4821e615bfb8",
   "metadata": {},
   "source": [
    "Plot the loss function versus epoch for the training sample and the validation sample (and _not_ the test sample!).\n",
    "\n",
    "Do they diverge? If so, what can you do about that?\n",
    "\n",
    "Suggestion: compute the validation loss before the training loss, since a training loop over mini-batches changes the model state.\n",
    "\n",
    "Helpful hint: since you'll be comparing losses computed from different dataset sizes, you need to scale them by the number of data points.\n",
    "\n",
    "```python\n",
    "for epoch in range(NUM_EPOCHS):\n",
    "    features_tensor, targets_tensor = the_validation_sample\n",
    "    ...\n",
    "    validation_loss = loss.item() * len(the_validation_sample) * (0.8 / 0.1)\n",
    "\n",
    "    training_loss = 0\n",
    "    for features_tensor, targets_tensor in training_sample_batches:\n",
    "        ...\n",
    "        training_loss += loss.item() * len(targets_tensor)   # one training mini-batch\n",
    "```"
   ]
  },
  {
   "cell_type": "code",
   "execution_count": null,
   "id": "d3907e3b-3b20-4c89-8cd2-4ece5d986fd0",
   "metadata": {},
   "outputs": [],
   "source": []
  },
  {
   "cell_type": "code",
   "execution_count": null,
   "id": "b0cb1b99-2aec-4770-9a82-1991e3146704",
   "metadata": {},
   "outputs": [],
   "source": []
  },
  {
   "cell_type": "code",
   "execution_count": null,
   "id": "9beeeabb-1608-4a3f-aa2d-0ca4e8341435",
   "metadata": {},
   "outputs": [],
   "source": []
  },
  {
   "cell_type": "markdown",
   "id": "687eae8c-e772-4373-83c1-b620239db870",
   "metadata": {},
   "source": [
    "<br><br><br><br><br>"
   ]
  },
  {
   "cell_type": "markdown",
   "id": "7d65a2f4-f6e1-403d-adad-2ffbf80d4aef",
   "metadata": {},
   "source": [
    "### Step 5: Compute a 5×5 confusion matrix"
   ]
  },
  {
   "cell_type": "markdown",
   "id": "2f0fd00f-2e26-4674-ad78-a371df23611a",
   "metadata": {},
   "source": [
    "We now have 5 categories, rather than 2, so the confusion matrix is 5×5:\n",
    "\n",
    "| | predicted `'g'` | predicted `'q'` | predicted `'t'` | predicted `'w'` | predicted `'z'` |\n",
    "|--:|:--:|:--:|:--:|:--:|:--:|\n",
    "| **true `'g'`** | # | # | # | # | # |\n",
    "| **true `'q'`** | # | # | # | # | # |\n",
    "| **true `'t'`** | # | # | # | # | # |\n",
    "| **true `'w'`** | # | # | # | # | # |\n",
    "| **true `'z'`** | # | # | # | # | # |\n",
    "\n",
    "Each prediction from your model is a vector of 5 numbers. The softmax of these 5 numbers are the 5 probabilities for each category (guaranteed by the [definition of softmax](https://en.wikipedia.org/wiki/Softmax_function) to add up to 1). If you use [nn.CrossEntropyLoss](https://pytorch.org/docs/stable/generated/torch.nn.CrossEntropyLoss.html), your model does not apply the softmax, so you'd need to apply it as an additional step.\n",
    "\n",
    "For a large set of predictions (a 2-dimensional array with shape `(num_predictions, 5)`), the [torch.argmax](https://pytorch.org/docs/stable/generated/torch.argmax.html#torch.argmax) with `axis=1` finds the index of the maximum probability in each prediction.\n",
    "\n",
    "Use this to count how many true `'g'` your model predicts as `'g'`, how many true `'g'` your model predicts as `'q'`, etc. for all 25 elements of the confusion matrix.\n",
    "\n",
    "Then plot this matrix as a colormap using Matplotlib's [ax.imshow](https://matplotlib.org/stable/api/_as_gen/matplotlib.pyplot.imshow.html).\n",
    "\n",
    "Use the validation sample only!"
   ]
  },
  {
   "cell_type": "code",
   "execution_count": null,
   "id": "573f5385-ff5e-451c-8c07-d33cd06e04a0",
   "metadata": {},
   "outputs": [],
   "source": []
  },
  {
   "cell_type": "code",
   "execution_count": null,
   "id": "f27e7575-774e-4ff6-bc33-6874f9d80351",
   "metadata": {},
   "outputs": [],
   "source": []
  },
  {
   "cell_type": "code",
   "execution_count": null,
   "id": "077aedb5-3ef3-4b47-a7d6-cbbf115f16ba",
   "metadata": {},
   "outputs": [],
   "source": []
  },
  {
   "cell_type": "markdown",
   "id": "062e9592-a6f1-4e80-8dbd-9d60a1cc4da7",
   "metadata": {},
   "source": [
    "<br><br><br><br><br>"
   ]
  },
  {
   "cell_type": "markdown",
   "id": "aefeeb25-3778-4e26-80b5-2cfe54d0c9d8",
   "metadata": {},
   "source": [
    "### Step 6: Compute a 2×2 confusion matrix"
   ]
  },
  {
   "cell_type": "markdown",
   "id": "cf0e7e74-50ed-46fb-8442-9ace1fcbecf6",
   "metadata": {},
   "source": [
    "Suppose that we're primarily interested in how the model separates lightweight QCD jets (`'g'` and `'q'`) from heavy electroweak jets (`'t'`, `'w'`, `'z'`). Since the categories are"
   ]
  },
  {
   "cell_type": "code",
   "execution_count": null,
   "id": "b4c5b37b-f270-48e4-835b-9b5d926be530",
   "metadata": {},
   "outputs": [],
   "source": [
    "targets.cat.categories"
   ]
  },
  {
   "cell_type": "markdown",
   "id": "8dc45918-59b8-40f7-b91c-deae9fedcc0c",
   "metadata": {},
   "source": [
    "the index range `0:2` selects lightweight QCD probabilities and the index range `2:5` selects heavy electroweak probabilities. By summing over one of these ranges (slice the second dimension of your set of predicted probabilities, followed by [torch.sum](https://pytorch.org/docs/stable/generated/torch.sum.html#torch.sum) with `axis=1`), you get its total probability $p$, and the other range gives $1 - p$.\n",
    "\n",
    "Compute the 2×2 confusion matrix for the problem of distinguishing lightweight QCD jets (background) from heavy electroweak jets (signal). You might find this easiest to write as a function of a `threshold`, with the default `threshold` being `0.5`. Anyway, you'll need that for the next step.\n",
    "\n",
    "Finally, plot a ROC curve, the true positive rate versus false positive rate curve. How close does your model get to perfection (true positive rate = 1 and false positive rate = 0)? How does its shape differ at one end of the ROC curve from the other? Would it be symmetric if you swapped true positive rate withs false positive rate?"
   ]
  },
  {
   "cell_type": "code",
   "execution_count": null,
   "id": "931b2f96-9ca2-4c61-b279-40814a318a9f",
   "metadata": {},
   "outputs": [],
   "source": []
  },
  {
   "cell_type": "code",
   "execution_count": null,
   "id": "933862f8-846e-410d-901f-5887e4f70f07",
   "metadata": {},
   "outputs": [],
   "source": []
  },
  {
   "cell_type": "code",
   "execution_count": null,
   "id": "127bc797-30aa-4c79-8088-19f972d73120",
   "metadata": {},
   "outputs": [],
   "source": []
  },
  {
   "cell_type": "markdown",
   "id": "3f4b0c05-33db-4ba7-b9d2-105cc8fc26ed",
   "metadata": {},
   "source": [
    "<br><br><br><br><br>"
   ]
  },
  {
   "cell_type": "markdown",
   "id": "a4c1428d-ff2f-437f-bfa9-bdc499939ae1",
   "metadata": {},
   "source": [
    "### Step 7: Make a final ROC curve with the test sample and submit it"
   ]
  },
  {
   "cell_type": "markdown",
   "id": "c47111a4-604b-472a-9497-fcd5c545336f",
   "metadata": {},
   "source": [
    "When you're satisfied with the ROC curve on the validation sample, switch to the test sample and plot it again.\n",
    "\n",
    "Then use this function:"
   ]
  },
  {
   "cell_type": "code",
   "execution_count": null,
   "id": "3f124e37-638a-4f37-aa9f-6e3e83ee47af",
   "metadata": {},
   "outputs": [],
   "source": [
    "def resample_loss_curve(false_positive_rates, true_positive_rates):\n",
    "    series = pd.Series(true_positive_rates, index=false_positive_rates).groupby(level=0).mean()\n",
    "    new_x = np.linspace(0, 1, 100)**2\n",
    "    new_y = series.reindex(series.index.union(new_x)).interpolate(\"values\").loc[new_x]\n",
    "\n",
    "    fig, ax = plt.subplots(figsize=(6, 6))\n",
    "\n",
    "    ax.plot(new_x, new_y, marker=\".\")\n",
    "    ax.plot(false_positive_rates, true_positive_rates)\n",
    "\n",
    "    ax.grid(True, linestyle=\":\")\n",
    "\n",
    "    ax.set_xlabel(\"false positive rate\")\n",
    "    ax.set_ylabel(\"true positive rate\")\n",
    "\n",
    "    print(\"Copy-paste the the following numbers into your column in the spreadsheet:\")\n",
    "    print(\"https://docs.google.com/spreadsheets/d/1nRtNJoxW1i-jCr04ZHUlfv0DU4tMGbyvCZcpXakYedE/edit?usp=sharing\")\n",
    "    print()\n",
    "    print(\"\\n\".join(str(x) for x in new_y))\n",
    "    print()\n",
    "    print(\"Also, be sure that these two curves exactly overlap each other:\")"
   ]
  },
  {
   "cell_type": "markdown",
   "id": "1a1b0ae6-1ba7-43cf-a4dd-e53331e2a569",
   "metadata": {},
   "source": [
    "on your `false_positive_rates` list and your `true_positive_rates` list to resample it and print out 100 values to copy-paste into the [Google Spreadsheet for this course](https://docs.google.com/spreadsheets/d/1nRtNJoxW1i-jCr04ZHUlfv0DU4tMGbyvCZcpXakYedE/edit?usp=sharing) (_second_ sheet, \"Main Project\").\n",
    "\n",
    "You have already claimed a column in this spreadsheet with your name. Paste the 100 values in the column under your name.\n",
    "\n",
    "Scroll down below everyone's data to see the overlay of ROC curves. How did your model do? (There is no reason to think that mine will be the best; yours might be closer to the \"perfect model\" corner!)\n",
    "\n",
    "<img src=\"../img/only-one-ROC-curve.png\" width=\"700\">"
   ]
  },
  {
   "cell_type": "code",
   "execution_count": null,
   "id": "94565044-3a2c-4f93-a951-1c7f6e4e8b4e",
   "metadata": {},
   "outputs": [],
   "source": []
  },
  {
   "cell_type": "code",
   "execution_count": null,
   "id": "f1e64c69-c31c-4216-9593-0ed8ceb02187",
   "metadata": {},
   "outputs": [],
   "source": []
  },
  {
   "cell_type": "code",
   "execution_count": null,
   "id": "b524e064-8dcd-4f75-a9c6-2130b2f47c58",
   "metadata": {},
   "outputs": [],
   "source": []
  },
  {
   "cell_type": "markdown",
   "id": "04248f69-2154-4c1d-aeed-1f67ca31db5b",
   "metadata": {},
   "source": [
    "<br><br><br><br><br>"
   ]
  },
  {
   "cell_type": "markdown",
   "id": "57130393-5cd4-4332-814b-346f18fd21d4",
   "metadata": {},
   "source": [
    "## Project 2: Help others"
   ]
  },
  {
   "cell_type": "markdown",
   "id": "d325e561-a971-48a5-aa6d-974838b42200",
   "metadata": {},
   "source": [
    "If you finished before the end of the session, get up and walk around the room to see if anyone else needs help.\n",
    "\n",
    "Finishing early means that you understand the concepts and tools well enough to perform an analysis. But do you understand the concepts and tools well enough to explain them to someone who doesn't? That's the next-level stage of understanding."
   ]
  }
 ],
 "metadata": {
  "kernelspec": {
   "display_name": "Python 3 (ipykernel)",
   "language": "python",
   "name": "python3"
  },
  "language_info": {
   "codemirror_mode": {
    "name": "ipython",
    "version": 3
   },
   "file_extension": ".py",
   "mimetype": "text/x-python",
   "name": "python",
   "nbconvert_exporter": "python",
   "pygments_lexer": "ipython3",
   "version": "3.11.9"
  }
 },
 "nbformat": 4,
 "nbformat_minor": 5
}
