{
 "cells": [
  {
   "cell_type": "markdown",
   "id": "7bb84ef4-f634-45ea-b93d-4d49955a6723",
   "metadata": {},
   "source": [
    "# Solutions for Lesson 3: Main Project"
   ]
  },
  {
   "cell_type": "markdown",
   "id": "8f9b40ac-c49a-4da2-824f-5f4f4bde0d2b",
   "metadata": {},
   "source": [
    "Don't look at this notebook until you have attempted to solve the problems yourself."
   ]
  },
  {
   "cell_type": "markdown",
   "id": "d419948c-75bb-48c7-8a7b-4faa878d8272",
   "metadata": {},
   "source": [
    "<br><br><br><br><br>"
   ]
  },
  {
   "cell_type": "code",
   "execution_count": 1,
   "id": "19fda0a9-6ac0-4a5c-b79c-77e102ec21fa",
   "metadata": {},
   "outputs": [],
   "source": [
    "import numpy as np\n",
    "import pandas as pd\n",
    "import matplotlib.pyplot as plt\n",
    "\n",
    "import sklearn.datasets\n",
    "import torch\n",
    "from torch import nn"
   ]
  },
  {
   "cell_type": "code",
   "execution_count": 2,
   "id": "26404c8e-074a-478b-9cec-e63d4ff504cd",
   "metadata": {},
   "outputs": [],
   "source": [
    "hls4ml_lhc_jets_hlf = sklearn.datasets.fetch_openml(\"hls4ml_lhc_jets_hlf\")\n",
    "\n",
    "features, targets = hls4ml_lhc_jets_hlf[\"data\"], hls4ml_lhc_jets_hlf[\"target\"]"
   ]
  },
  {
   "cell_type": "code",
   "execution_count": 12,
   "id": "1acd05cf-2c93-4581-827a-2e11c9da7c72",
   "metadata": {},
   "outputs": [],
   "source": [
    "features_tensor = torch.tensor(features.values).float()\n",
    "targets_tensor = torch.tensor(targets.cat.codes.values)"
   ]
  },
  {
   "cell_type": "code",
   "execution_count": null,
   "id": "0d8140fa-e952-4fa8-94c9-08b2f3b2f584",
   "metadata": {},
   "outputs": [],
   "source": []
  }
 ],
 "metadata": {
  "kernelspec": {
   "display_name": "Python 3 (ipykernel)",
   "language": "python",
   "name": "python3"
  },
  "language_info": {
   "codemirror_mode": {
    "name": "ipython",
    "version": 3
   },
   "file_extension": ".py",
   "mimetype": "text/x-python",
   "name": "python",
   "nbconvert_exporter": "python",
   "pygments_lexer": "ipython3",
   "version": "3.11.9"
  }
 },
 "nbformat": 4,
 "nbformat_minor": 5
}
