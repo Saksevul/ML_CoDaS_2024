{
 "cells": [
  {
   "cell_type": "markdown",
   "id": "809f0aef-17eb-4d80-bedc-fe0fd6513ff4",
   "metadata": {
    "editable": true,
    "slideshow": {
     "slide_type": ""
    },
    "tags": []
   },
   "source": [
    "# Machine learning at CoDaS-HEP 2024, lesson 1 part 2"
   ]
  },
  {
   "cell_type": "markdown",
   "id": "938d2f75-d4f5-427e-83a1-cf892eb47412",
   "metadata": {
    "editable": true,
    "slideshow": {
     "slide_type": ""
    },
    "tags": []
   },
   "source": [
    "<br><br><br><br><br>"
   ]
  },
  {
   "cell_type": "markdown",
   "id": "7915de53-a128-495e-8e52-60b1dd26383d",
   "metadata": {},
   "source": [
    "## Reminders"
   ]
  },
  {
   "cell_type": "markdown",
   "id": "0b62d6ff-0621-49a4-9eab-8b986f1703e7",
   "metadata": {
    "editable": true,
    "slideshow": {
     "slide_type": ""
    },
    "tags": []
   },
   "source": [
    "As a reminder, a (simple, feed-forward, 4-layer) neural network looks like this:\n",
    "\n",
    "<img src=\"../img/artificial-neural-network-layers-2.svg\" width=\"700\">"
   ]
  },
  {
   "cell_type": "markdown",
   "id": "e0a50e9b-d56d-4240-aeb8-cd9a1f9527ad",
   "metadata": {
    "editable": true,
    "slideshow": {
     "slide_type": ""
    },
    "tags": []
   },
   "source": [
    "<br><br><br><br><br>"
   ]
  },
  {
   "cell_type": "markdown",
   "id": "d31d4d6f-30f9-4d2f-aa2d-4d5dfc685d50",
   "metadata": {
    "editable": true,
    "slideshow": {
     "slide_type": ""
    },
    "tags": []
   },
   "source": [
    "Which is to say, like this:\n",
    "\n",
    "$$\n",
    "y_i =\n",
    "f\\left(a_{i,j}^{\\mbox{\\scriptsize L3--L4}} \\cdot\n",
    "f\\left(a_{i,j}^{\\mbox{\\scriptsize L2--L3}} \\cdot\n",
    "f\\left(a_{i,j}^{\\mbox{\\scriptsize L1--L2}} \\cdot x_j + b_i^{\\mbox{\\scriptsize L1--L2}}\\right)\n",
    "+ b_i^{\\mbox{\\scriptsize L2--L3}}\\right)\n",
    "+ b_i^{\\mbox{\\scriptsize L3--L4}}\\right)\n",
    "$$"
   ]
  },
  {
   "cell_type": "markdown",
   "id": "9d4ac88c-2816-45d7-8bff-ad4fe386dbc0",
   "metadata": {
    "editable": true,
    "slideshow": {
     "slide_type": ""
    },
    "tags": []
   },
   "source": [
    "<br><br><br><br><br>"
   ]
  },
  {
   "cell_type": "markdown",
   "id": "05902288-0f05-44b7-9a87-9be7dc56fc5a",
   "metadata": {},
   "source": [
    "In code, that means:"
   ]
  },
  {
   "cell_type": "code",
   "execution_count": 1,
   "id": "1b5526b2-4026-4554-a2a9-a9fc5b542605",
   "metadata": {},
   "outputs": [],
   "source": [
    "import numpy as np"
   ]
  },
  {
   "cell_type": "code",
   "execution_count": 11,
   "id": "68b74fec-4ad8-4f16-83b8-d3d874e0c44a",
   "metadata": {},
   "outputs": [],
   "source": [
    "# take 8-dimensional input layer 1 to 7-dimensional hidden layer 2\n",
    "a_L1_L2 = np.random.normal(0, 1, (7, 8))\n",
    "b_L1_L2 = np.random.normal(0, 1, (7,))\n",
    "\n",
    "# take 7-dimensional hidden layer 2 to 9-dimensional hidden layer 3\n",
    "a_L2_L3 = np.random.normal(0, 1, (9, 7))\n",
    "b_L2_L3 = np.random.normal(0, 1, (9,))\n",
    "\n",
    "# take 9-dimensional hidden layer 3 to 6-dimensional output layer 4\n",
    "a_L3_L4 = np.random.normal(0, 1, (6, 9))\n",
    "b_L3_L4 = np.random.normal(0, 1, (6,))\n",
    "\n",
    "def relu(x):\n",
    "    return np.maximum(0, x)\n",
    "\n",
    "def model(x):\n",
    "    layer1 = x\n",
    "    layer2 = relu(a_L1_L2 @ layer1 + b_L1_L2)\n",
    "    layer3 = relu(a_L2_L3 @ layer2 + b_L2_L3)\n",
    "    layer4 = relu(a_L3_L4 @ layer3 + b_L3_L4)\n",
    "    y = layer4\n",
    "    return y"
   ]
  },
  {
   "cell_type": "markdown",
   "id": "a04b3ded-14f3-4719-92ca-c26a7d7d07ef",
   "metadata": {},
   "source": [
    "Here's the model's output for a sample input:"
   ]
  },
  {
   "cell_type": "code",
   "execution_count": 12,
   "id": "9bdbd3d3-7587-47c0-b9a7-8b7b6d375a50",
   "metadata": {},
   "outputs": [
    {
     "data": {
      "text/plain": [
       "array([11.03079726, 12.45383983,  0.        ,  0.        ,  7.81129447,\n",
       "        7.33418936])"
      ]
     },
     "execution_count": 12,
     "metadata": {},
     "output_type": "execute_result"
    }
   ],
   "source": [
    "x = np.random.normal(0, 1, (8,))\n",
    "\n",
    "model(x)"
   ]
  },
  {
   "cell_type": "markdown",
   "id": "932537b7-b575-49b9-bf68-946603778091",
   "metadata": {
    "editable": true,
    "slideshow": {
     "slide_type": ""
    },
    "tags": []
   },
   "source": [
    "<br><br><br><br><br>"
   ]
  },
  {
   "cell_type": "markdown",
   "id": "778f21dc-bf6a-436f-86ce-3a6d42449618",
   "metadata": {},
   "source": [
    "Given a large dataset of `x` vectors, an equally large set of expected `y` vectors, and a minimizer, we could train the model by optimizing these parameters:"
   ]
  },
  {
   "cell_type": "code",
   "execution_count": 15,
   "id": "6d112a58-cf42-40a5-a86a-ab7164e67272",
   "metadata": {},
   "outputs": [
    {
     "data": {
      "text/plain": [
       "array([[ 0.46584529, -0.79434105,  0.30786216, -0.50507019, -0.03540209,\n",
       "        -0.24112821,  0.37416534, -0.62789647],\n",
       "       [ 0.94458063, -0.51744175,  0.05822749, -1.14103328, -0.00535695,\n",
       "         0.27368702,  0.87765437,  0.86686374],\n",
       "       [-0.70204751,  0.61642705, -0.9627886 , -0.94822418, -1.14344213,\n",
       "         0.13787023, -1.19870441, -0.46053546],\n",
       "       [ 1.2529536 , -0.58980945, -0.44096821, -0.64246417,  0.8853539 ,\n",
       "         0.44068554,  2.43598694,  0.49854176],\n",
       "       [-0.14821625, -0.32792798,  0.33920959, -0.52909471, -1.42775839,\n",
       "         0.39491426, -2.21739509,  0.68555603],\n",
       "       [-1.44681708, -0.02982129, -1.46738637,  0.42057161,  0.35277722,\n",
       "        -0.83142961,  2.32882804,  0.28770379],\n",
       "       [ 1.28867981,  1.08870556,  0.06398847,  0.45545825,  1.19160146,\n",
       "         1.00476985, -0.00683849, -1.63661002]])"
      ]
     },
     "execution_count": 15,
     "metadata": {},
     "output_type": "execute_result"
    }
   ],
   "source": [
    "a_L1_L2"
   ]
  },
  {
   "cell_type": "code",
   "execution_count": 16,
   "id": "9072e6fd-a55c-489f-85b6-c41e796a8456",
   "metadata": {},
   "outputs": [
    {
     "data": {
      "text/plain": [
       "array([ 1.65692997,  1.80684596,  1.55930913, -1.32976663, -0.52313649,\n",
       "       -1.22225077,  0.74303582])"
      ]
     },
     "execution_count": 16,
     "metadata": {},
     "output_type": "execute_result"
    }
   ],
   "source": [
    "b_L1_L2"
   ]
  },
  {
   "cell_type": "code",
   "execution_count": 17,
   "id": "be6917d2-1602-44ba-8ec7-726ac84ce4f2",
   "metadata": {},
   "outputs": [
    {
     "data": {
      "text/plain": [
       "array([[ 1.25902691,  0.22452816,  1.36976825, -0.55811491, -0.07347018,\n",
       "        -0.42207942,  1.80366964],\n",
       "       [-0.35619402,  1.380792  ,  0.31643495,  0.18425909, -1.81170905,\n",
       "        -0.49149711,  0.69482636],\n",
       "       [-1.20662481,  1.19480494,  0.49589162, -0.03139444, -0.20982596,\n",
       "         2.15567115,  0.9640442 ],\n",
       "       [-1.43552956, -1.23384725,  0.68979683,  0.79612705, -0.00638356,\n",
       "         0.60604382,  0.12707776],\n",
       "       [ 0.60671319,  0.23179956, -0.93240115, -1.20597387, -0.32877326,\n",
       "        -0.04077577,  0.97144842],\n",
       "       [-0.58499887,  0.74685522,  0.60902534, -0.14289348,  0.07788466,\n",
       "         0.01558596, -0.15741029],\n",
       "       [-0.8650252 , -3.08058742, -0.3268319 , -0.04060389,  0.56433748,\n",
       "         0.00652574,  1.31594315],\n",
       "       [ 0.36718713, -2.10683057, -1.34246018,  0.59514127,  0.32629339,\n",
       "        -0.58318272,  1.0320227 ],\n",
       "       [-0.08635942,  0.12455025, -0.05816353,  0.61746697,  0.40378234,\n",
       "         0.53672263,  0.11352741]])"
      ]
     },
     "execution_count": 17,
     "metadata": {},
     "output_type": "execute_result"
    }
   ],
   "source": [
    "a_L2_L3"
   ]
  },
  {
   "cell_type": "code",
   "execution_count": 18,
   "id": "78869c8a-e585-440a-ab79-9724f8be9a74",
   "metadata": {},
   "outputs": [
    {
     "data": {
      "text/plain": [
       "array([ 1.68540897,  1.68547654,  0.77596705,  0.92005175, -1.20306912,\n",
       "        1.4762198 , -1.13197467,  0.78167442,  0.8892578 ])"
      ]
     },
     "execution_count": 18,
     "metadata": {},
     "output_type": "execute_result"
    }
   ],
   "source": [
    "b_L2_L3"
   ]
  },
  {
   "cell_type": "code",
   "execution_count": 19,
   "id": "308414ec-6e53-407d-b73e-5a0177ddebda",
   "metadata": {},
   "outputs": [
    {
     "data": {
      "text/plain": [
       "array([[ 0.82445788, -0.33004676,  0.4936911 , -2.34170104,  0.29632171,\n",
       "        -0.12980095, -0.0303506 ,  0.87969774,  0.20929147],\n",
       "       [ 1.67042236, -1.23078755,  0.62490481, -1.81355255, -0.82479196,\n",
       "         0.8193912 , -0.73813887, -0.34035706,  0.88898891],\n",
       "       [-1.33837677, -0.41860029, -0.38780771, -0.39605987, -2.91797095,\n",
       "         1.47461802,  0.20972448,  1.29858008, -0.84848694],\n",
       "       [-1.24581663, -0.66039626, -2.37231689, -0.34789816,  0.92078624,\n",
       "        -1.76154556,  0.22515589,  1.41809949, -1.04924791],\n",
       "       [-0.06665433, -1.11116286,  1.12650561,  0.19868453,  0.6702581 ,\n",
       "         0.26141375, -0.95402739,  0.63671454, -0.53160827],\n",
       "       [ 0.12500722, -0.19787728,  0.74681658,  0.91134624,  0.69956507,\n",
       "         0.65845079, -0.47853924, -0.86570753, -0.87268969]])"
      ]
     },
     "execution_count": 19,
     "metadata": {},
     "output_type": "execute_result"
    }
   ],
   "source": [
    "a_L3_L4"
   ]
  },
  {
   "cell_type": "code",
   "execution_count": 20,
   "id": "0bedc6b7-82d5-4029-ba39-5587b2723873",
   "metadata": {},
   "outputs": [
    {
     "data": {
      "text/plain": [
       "array([ 0.32526209,  0.08141577,  0.74827707, -0.16723844, -0.78073532,\n",
       "        1.52148635])"
      ]
     },
     "execution_count": 20,
     "metadata": {},
     "output_type": "execute_result"
    }
   ],
   "source": [
    "b_L3_L4"
   ]
  },
  {
   "cell_type": "markdown",
   "id": "e7f7330b-5431-47ec-8567-e9981d440680",
   "metadata": {},
   "source": [
    "such that `model(x)` comes as close as possible to `y`.\n",
    "\n",
    "Then we could use `model(x_new)` to predict new $y$ values for `x_new`, and the predictions would have (roughly) the same correlations as the training dataset."
   ]
  },
  {
   "cell_type": "markdown",
   "id": "4ee950c0-7000-4a1a-bf2b-4ff9f07377e0",
   "metadata": {},
   "source": [
    "<br><br><br><br><br>"
   ]
  },
  {
   "cell_type": "markdown",
   "id": "6aadb0f6-b06e-4385-8cd7-48728c0778d7",
   "metadata": {},
   "source": [
    "HEP has a favorite minimizer: MINUIT.\n",
    "\n",
    "Introduced in 1972 by Fred James, MINUIT computes numerical second derivatives of the function, attempts to jump to the minimum, and then recomputes.\n",
    "\n",
    "It doesn't scale well with a large number of parameters to optimize, and we would have"
   ]
  },
  {
   "cell_type": "code",
   "execution_count": 23,
   "id": "9112ed83-37d6-456d-8886-87765b906b76",
   "metadata": {},
   "outputs": [
    {
     "data": {
      "text/plain": [
       "195"
      ]
     },
     "execution_count": 23,
     "metadata": {},
     "output_type": "execute_result"
    }
   ],
   "source": [
    "a_L1_L2.size + b_L1_L2.size + a_L2_L3.size + b_L2_L3.size + a_L3_L4.size + b_L3_L4.size"
   ]
  },
  {
   "cell_type": "markdown",
   "id": "0b3d8a45-f62c-452c-b6c2-496775534912",
   "metadata": {},
   "source": [
    "parameters to optimize in this simple example.\n",
    "\n",
    "Nevertheless, we'll use MINUIT in some early examples, through the iminuit package.\n",
    "\n",
    "<img src=\"https://raw.githubusercontent.com/scikit-hep/iminuit/develop/doc/_static/iminuit_logo.svg\" width=\"300\">"
   ]
  },
  {
   "cell_type": "code",
   "execution_count": 21,
   "id": "35835d0d-5e3e-4e31-8952-2c8eec905867",
   "metadata": {},
   "outputs": [],
   "source": [
    "import iminuit"
   ]
  },
  {
   "cell_type": "markdown",
   "id": "fada7909-a20d-4d91-b00d-a31f610e2718",
   "metadata": {},
   "source": [
    "<br><br><br><br><br>"
   ]
  },
  {
   "cell_type": "markdown",
   "id": "0c319ee3-9090-4b17-84a7-6c0ba2047993",
   "metadata": {},
   "source": [
    "As another simplification, note that we don't have to maintain the distinction between matrices of parameters $a_{i,j}$ and vectors of parameters $b_i$:\n",
    "\n",
    "$$\n",
    "\\left(\\begin{array}{c c c c}\n",
    "a_{1,1} & a_{1,2} & \\ldots & a_{1,10} \\\\\n",
    "a_{2,1} & a_{2,2} & \\ldots & a_{2,10} \\\\\n",
    "a_{3,1} & a_{3,2} & \\ldots & a_{3,10} \\\\\n",
    "a_{4,1} & a_{4,2} & \\ldots & a_{4,10} \\\\\n",
    "a_{5,1} & a_{5,2} & \\ldots & a_{5,10} \\\\\n",
    "\\end{array}\\right) \\cdot \\left(\\begin{array}{c}\n",
    "x_1 \\\\\n",
    "x_2 \\\\\n",
    "\\vdots \\\\\n",
    "x_{10} \\\\\n",
    "\\end{array}\\right) + \\left(\\begin{array}{c}\n",
    "b_1 \\\\\n",
    "b_2 \\\\\n",
    "b_3 \\\\\n",
    "b_4 \\\\\n",
    "b_5 \\\\\n",
    "\\end{array}\\right)\n",
    "$$\n",
    "\n",
    "is the same as\n",
    "\n",
    "$$\n",
    "\\left(\\begin{array}{c c c c c}\n",
    "a_{1,1} & a_{1,2} & \\ldots & a_{1,10} & b_1 \\\\\n",
    "a_{2,1} & a_{2,2} & \\ldots & a_{2,10} & b_2 \\\\\n",
    "a_{3,1} & a_{3,2} & \\ldots & a_{3,10} & b_3 \\\\\n",
    "a_{4,1} & a_{4,2} & \\ldots & a_{4,10} & b_4 \\\\\n",
    "a_{5,1} & a_{5,2} & \\ldots & a_{5,10} & b_5 \\\\\n",
    "\\end{array}\\right) \\cdot \\left(\\begin{array}{c}\n",
    "x_1 \\\\\n",
    "x_2 \\\\\n",
    "\\vdots \\\\\n",
    "x_{10} \\\\\n",
    "1 \\\\\n",
    "\\end{array}\\right)\n",
    "$$\n",
    "\n",
    "We can absorb our $b_i$ vectors into a bigger matrix $A_{i,j}$ with the understanding that we concatenate a $1$ at the end of the $x_j$ vector."
   ]
  },
  {
   "cell_type": "markdown",
   "id": "29bec153-f89a-48a3-ac0d-89bcd73f6a64",
   "metadata": {},
   "source": [
    "<br><br><br><br><br>"
   ]
  },
  {
   "cell_type": "markdown",
   "id": "987fab6f-e97c-4ec1-a949-b4a14571902b",
   "metadata": {},
   "source": [
    "## What's so special about this linear-nonlinear sandwich?"
   ]
  },
  {
   "cell_type": "code",
   "execution_count": null,
   "id": "fbeaf577-bfa0-4ada-8236-8b4e766211f1",
   "metadata": {},
   "outputs": [],
   "source": []
  }
 ],
 "metadata": {
  "kernelspec": {
   "display_name": "Python 3 (ipykernel)",
   "language": "python",
   "name": "python3"
  },
  "language_info": {
   "codemirror_mode": {
    "name": "ipython",
    "version": 3
   },
   "file_extension": ".py",
   "mimetype": "text/x-python",
   "name": "python",
   "nbconvert_exporter": "python",
   "pygments_lexer": "ipython3",
   "version": "3.11.9"
  }
 },
 "nbformat": 4,
 "nbformat_minor": 5
}
