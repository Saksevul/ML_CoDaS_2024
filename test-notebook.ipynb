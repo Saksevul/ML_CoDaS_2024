{
 "cells": [
  {
   "cell_type": "markdown",
   "id": "5953bcd6-98ff-4223-8343-56948ebab692",
   "metadata": {},
   "source": [
    "# Test notebook!"
   ]
  },
  {
   "cell_type": "markdown",
   "id": "ba662cd3-26d4-4f53-8268-307d45988616",
   "metadata": {},
   "source": [
    "Can you import everything?"
   ]
  },
  {
   "cell_type": "code",
   "execution_count": null,
   "id": "47640a7c-e76d-4500-9cc2-092e6b126790",
   "metadata": {},
   "outputs": [],
   "source": [
    "import numpy\n",
    "import pandas\n",
    "import matplotlib.pyplot\n",
    "import h5py\n",
    "import sklearn\n",
    "import torch\n",
    "import iminuit"
   ]
  }
 ],
 "metadata": {
  "kernelspec": {
   "display_name": "Python 3 (ipykernel)",
   "language": "python",
   "name": "python3"
  },
  "language_info": {
   "codemirror_mode": {
    "name": "ipython",
    "version": 3
   },
   "file_extension": ".py",
   "mimetype": "text/x-python",
   "name": "python",
   "nbconvert_exporter": "python",
   "pygments_lexer": "ipython3",
   "version": "3.11.9"
  }
 },
 "nbformat": 4,
 "nbformat_minor": 5
}
